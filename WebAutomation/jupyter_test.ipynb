{
 "cells": [
  {
   "cell_type": "code",
   "execution_count": 4,
   "metadata": {},
   "outputs": [
    {
     "name": "stdout",
     "output_type": "stream",
     "text": [
      "1 乔峰的谁知心爱朱颜消逝烟雨中。\n",
      "2 降龙无敌手，丐帮帮主乔峰。\n"
     ]
    }
   ],
   "source": [
    "#!usr/bin/env python3\n",
    "import re\n",
    "name = '乔峰'\n",
    "text = '''段誉的六卖神贱，虚竹的酒色为善佛祖皆空。乔峰的谁知心爱朱颜消逝烟雨中。降龙无敌手，丐帮帮主乔峰。'''\n",
    "results = re.findall(r'[^。]*?{}[^。]*?。'.format(name), text)\n",
    "for i, r in enumerate(results, 1):\n",
    "    print(i, r)"
   ]
  },
  {
   "cell_type": "code",
   "execution_count": 6,
   "metadata": {},
   "outputs": [
    {
     "name": "stdout",
     "output_type": "stream",
     "text": [
      "['abc、def', ';', 'ghi', ';', 'jkl', ';', 'mno', ';', 'pkr']\n",
      "['abc、def', 'ghi', 'jkl', 'mno', 'pkr']\n",
      "[';', ';', ';', ';', '']\n",
      "abc、def;ghi;jkl;mno;pkr\n"
     ]
    }
   ],
   "source": [
    "import re\n",
    "line='abc、def ; ghi; jkl;mno; pkr'\n",
    "result=re.split(r'\\s*(;|\\s)\\s*',line)\n",
    "print(result)\n",
    "values=result[::2]\n",
    "delimiters=result[1::2]+['']\n",
    "\n",
    "print(values)\n",
    "print(delimiters)\n",
    "\n",
    "last=''.join(v+d for v,d in zip(values,delimiters))\n",
    "print(last)"
   ]
  },
  {
   "cell_type": "code",
   "execution_count": 15,
   "metadata": {},
   "outputs": [
    {
     "ename": "TypeError",
     "evalue": "'generator' object cannot be interpreted as an integer",
     "output_type": "error",
     "traceback": [
      "\u001b[1;31m---------------------------------------------------------------------------\u001b[0m",
      "\u001b[1;31mTypeError\u001b[0m                                 Traceback (most recent call last)",
      "\u001b[1;32m<ipython-input-15-1ee52febd85e>\u001b[0m in \u001b[0;36m<module>\u001b[1;34m\u001b[0m\n\u001b[1;32m----> 1\u001b[1;33m \u001b[1;33m[\u001b[0m\u001b[1;36m1\u001b[0m\u001b[1;33m,\u001b[0m\u001b[1;36m2\u001b[0m\u001b[1;33m,\u001b[0m\u001b[1;36m3\u001b[0m\u001b[1;33m,\u001b[0m\u001b[1;36m4\u001b[0m\u001b[1;33m]\u001b[0m\u001b[1;33m.\u001b[0m\u001b[0mpop\u001b[0m\u001b[1;33m(\u001b[0m\u001b[0mlist\u001b[0m\u001b[1;33m(\u001b[0m\u001b[0mx\u001b[0m\u001b[1;33m)\u001b[0m \u001b[1;32mfor\u001b[0m \u001b[0mx\u001b[0m \u001b[1;32min\u001b[0m \u001b[1;33m(\u001b[0m\u001b[1;36m1\u001b[0m\u001b[1;33m,\u001b[0m\u001b[1;36m2\u001b[0m\u001b[1;33m,\u001b[0m\u001b[1;36m3\u001b[0m\u001b[1;33m)\u001b[0m\u001b[1;33m)\u001b[0m\u001b[1;33m\u001b[0m\u001b[0m\n\u001b[0m",
      "\u001b[1;31mTypeError\u001b[0m: 'generator' object cannot be interpreted as an integer"
     ]
    }
   ],
   "source": [
    "[1,2,3,4].pop(list(x) for x in (1,2,3))"
   ]
  },
  {
   "cell_type": "code",
   "execution_count": 19,
   "metadata": {},
   "outputs": [
    {
     "name": "stdout",
     "output_type": "stream",
     "text": [
      "['xyz', 'zara', 'abc', 'xyz']\n"
     ]
    }
   ],
   "source": [
    "aList = [123, 'xyz', 'zara', 'abc', 'xyz']\n",
    "aList.remove(123)\n",
    "print(aList)"
   ]
  },
  {
   "cell_type": "code",
   "execution_count": 20,
   "metadata": {},
   "outputs": [
    {
     "ename": "ModuleNotFoundError",
     "evalue": "No module named 'flashtext'",
     "output_type": "error",
     "traceback": [
      "\u001b[1;31m---------------------------------------------------------------------------\u001b[0m",
      "\u001b[1;31mModuleNotFoundError\u001b[0m                       Traceback (most recent call last)",
      "\u001b[1;32m<ipython-input-20-58f01dc05627>\u001b[0m in \u001b[0;36m<module>\u001b[1;34m\u001b[0m\n\u001b[1;32m----> 1\u001b[1;33m \u001b[1;32mfrom\u001b[0m \u001b[0mflashtext\u001b[0m \u001b[1;32mimport\u001b[0m \u001b[0mKeywordProcessor\u001b[0m\u001b[1;33m\u001b[0m\u001b[0m\n\u001b[0m\u001b[0;32m      2\u001b[0m \u001b[0mkeyword_processor\u001b[0m \u001b[1;33m=\u001b[0m \u001b[0mKeywordProcessor\u001b[0m\u001b[1;33m(\u001b[0m\u001b[1;33m)\u001b[0m\u001b[1;33m\u001b[0m\u001b[0m\n\u001b[0;32m      3\u001b[0m \u001b[1;31m# keyword_processor.add_keyword(<unclean name>, <standardised name>)\u001b[0m\u001b[1;33m\u001b[0m\u001b[1;33m\u001b[0m\u001b[0m\n\u001b[0;32m      4\u001b[0m \u001b[0mkeyword_processor\u001b[0m\u001b[1;33m.\u001b[0m\u001b[0madd_keyword\u001b[0m\u001b[1;33m(\u001b[0m\u001b[1;34m'Big Apple'\u001b[0m\u001b[1;33m,\u001b[0m \u001b[1;34m'New York'\u001b[0m\u001b[1;33m)\u001b[0m\u001b[1;33m\u001b[0m\u001b[0m\n\u001b[0;32m      5\u001b[0m \u001b[0mkeyword_processor\u001b[0m\u001b[1;33m.\u001b[0m\u001b[0madd_keyword\u001b[0m\u001b[1;33m(\u001b[0m\u001b[1;34m'Bay Area'\u001b[0m\u001b[1;33m)\u001b[0m\u001b[1;33m\u001b[0m\u001b[0m\n",
      "\u001b[1;31mModuleNotFoundError\u001b[0m: No module named 'flashtext'"
     ]
    }
   ],
   "source": [
    "from flashtext import KeywordProcessor\n",
    "keyword_processor = KeywordProcessor()\n",
    "# keyword_processor.add_keyword(<unclean name>, <standardised name>)\n",
    "keyword_processor.add_keyword('Big Apple', 'New York')\n",
    "keyword_processor.add_keyword('Bay Area')\n",
    "keywords_found = keyword_processor.extract_keywords('I love Big Apple and Bay Area.')\n",
    "print(keywords_found)"
   ]
  },
  {
   "cell_type": "code",
   "execution_count": 21,
   "metadata": {},
   "outputs": [
    {
     "name": "stdout",
     "output_type": "stream",
     "text": [
      "Collecting flashtext\n",
      "  Downloading https://files.pythonhosted.org/packages/81/d8/2cd0656eae456d615c2f1efbcae8dfca2cb871a31f34ba8925aba47d5e09/flashtext-2.7.tar.gz\n",
      "Building wheels for collected packages: flashtext\n",
      "  Running setup.py bdist_wheel for flashtext: started\n",
      "  Running setup.py bdist_wheel for flashtext: finished with status 'done'\n",
      "  Stored in directory: C:\\Users\\che300\\AppData\\Local\\pip\\Cache\\wheels\\37\\db\\d7\\fe74f7cb8e5c3afed90fe6f4967c933a6f13d81ab6b3d3128c\n",
      "Successfully built flashtext\n",
      "Installing collected packages: flashtext\n",
      "Successfully installed flashtext-2.7\n",
      "Note: you may need to restart the kernel to use updated packages.\n"
     ]
    },
    {
     "name": "stderr",
     "output_type": "stream",
     "text": [
      "You are using pip version 9.0.1, however version 19.1.1 is available.\n",
      "You should consider upgrading via the 'python -m pip install --upgrade pip' command.\n"
     ]
    }
   ],
   "source": [
    "pip install flashtext"
   ]
  },
  {
   "cell_type": "code",
   "execution_count": 22,
   "metadata": {},
   "outputs": [
    {
     "name": "stdout",
     "output_type": "stream",
     "text": [
      "['New York', 'Bay Area']\n"
     ]
    }
   ],
   "source": [
    "from flashtext import KeywordProcessor\n",
    "keyword_processor = KeywordProcessor()\n",
    "# keyword_processor.add_keyword(<unclean name>, <standardised name>)\n",
    "keyword_processor.add_keyword('Big Apple', 'New York')\n",
    "keyword_processor.add_keyword('Bay Area')\n",
    "keywords_found = keyword_processor.extract_keywords('I love Big Apple and Bay Area.')\n",
    "print(keywords_found)"
   ]
  },
  {
   "cell_type": "code",
   "execution_count": null,
   "metadata": {},
   "outputs": [],
   "source": []
  }
 ],
 "metadata": {
  "kernelspec": {
   "display_name": "Python 3",
   "language": "python",
   "name": "python3"
  },
  "language_info": {
   "codemirror_mode": {
    "name": "ipython",
    "version": 3
   },
   "file_extension": ".py",
   "mimetype": "text/x-python",
   "name": "python",
   "nbconvert_exporter": "python",
   "pygments_lexer": "ipython3",
   "version": "3.6.4"
  }
 },
 "nbformat": 4,
 "nbformat_minor": 2
}
