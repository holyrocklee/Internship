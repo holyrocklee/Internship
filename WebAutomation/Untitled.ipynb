{
 "cells": [
  {
   "cell_type": "code",
   "execution_count": 4,
   "metadata": {},
   "outputs": [
    {
     "name": "stdout",
     "output_type": "stream",
     "text": [
      "1 乔峰的谁知心爱朱颜消逝烟雨中。\n",
      "2 降龙无敌手，丐帮帮主乔峰。\n"
     ]
    }
   ],
   "source": [
    "#!usr/bin/env python3\n",
    "import re\n",
    "name = '乔峰'\n",
    "text = '''段誉的六卖神贱，虚竹的酒色为善佛祖皆空。乔峰的谁知心爱朱颜消逝烟雨中。降龙无敌手，丐帮帮主乔峰。'''\n",
    "results = re.findall(r'[^。]*?{}[^。]*?。'.format(name), text)\n",
    "for i, r in enumerate(results, 1):\n",
    "    print(i, r)"
   ]
  },
  {
   "cell_type": "code",
   "execution_count": null,
   "metadata": {},
   "outputs": [],
   "source": []
  }
 ],
 "metadata": {
  "kernelspec": {
   "display_name": "Python 3",
   "language": "python",
   "name": "python3"
  },
  "language_info": {
   "codemirror_mode": {
    "name": "ipython",
    "version": 3
   },
   "file_extension": ".py",
   "mimetype": "text/x-python",
   "name": "python",
   "nbconvert_exporter": "python",
   "pygments_lexer": "ipython3",
   "version": "3.6.4"
  }
 },
 "nbformat": 4,
 "nbformat_minor": 2
}
